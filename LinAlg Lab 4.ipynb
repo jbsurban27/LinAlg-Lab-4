{
 "cells": [
  {
   "cell_type": "code",
   "execution_count": 8,
   "metadata": {},
   "outputs": [],
   "source": [
    "import numpy as np\n",
    "import matplotlib.pyplot as plt\n",
    "%matplotlib inline\n",
    "from numpy.linalg import norm"
   ]
  },
  {
   "cell_type": "code",
   "execution_count": 9,
   "metadata": {},
   "outputs": [
    {
     "name": "stdout",
     "output_type": "stream",
     "text": [
      "79.74960814950754\n",
      "79.74960814950754\n"
     ]
    },
    {
     "data": {
      "text/plain": [
       "79.74960814950754"
      ]
     },
     "execution_count": 9,
     "metadata": {},
     "output_type": "execute_result"
    }
   ],
   "source": [
    "vect1 = ([1,2,3,4])\n",
    "vect2 = ([5,8,12,3])\n",
    "vect3 = ([6,3,13,16])\n",
    "vect4 = ([8,7,31,41])\n",
    "vect5 = ([14,27,23,4])\n",
    "vect6 = ([13,2,32,14])\n",
    "\n",
    "vect_Total = vect1+vect2+vect3+vect4+vect5+vect6 #sum\n",
    "np.linalg.norm(vect_Total) #Compare to other use of operation\n",
    "print(np.linalg.norm(vect_Total))\n",
    "SumAll =  np.sqrt(np.sum(np.square(vect_Total))) #formula\n",
    "print(SumAll)\n",
    "norm(vect_Total)"
   ]
  },
  {
   "cell_type": "code",
   "execution_count": 14,
   "metadata": {},
   "outputs": [
    {
     "name": "stdout",
     "output_type": "stream",
     "text": [
      "394 763 894 3285 2130\n",
      "394 763 894 3285 2130\n"
     ]
    }
   ],
   "source": [
    "vect1 = np.array([1,2,3,4,5])\n",
    "vect2 = np.array([5,8,12,3,4])\n",
    "vect3 = np.array([6,3,13,16,6])\n",
    "vect4 = np.array([8,7,31,41,11])\n",
    "vect5 = np.array([14,27,23,4,12])\n",
    "vect6 = np.array([13,2,32,14,45])\n",
    "vect7 = np.array([11,22,33,44,1])\n",
    "vect8 = np.array([13,4,34,2,55])\n",
    "vect9 = np.array([21,21,33,44,13])\n",
    "vect10 = np.array([10,20,30,40,50])\n",
    "\n",
    "va = np.inner(vect1,vect6)\n",
    "vb = np.inner(vect2,vect7)\n",
    "vc = np.inner(vect3,vect8)\n",
    "vd = np.inner(vect4,vect9)\n",
    "ve = np.inner(vect5,vect10)\n",
    "print (va,vb,vc,vd,ve)\n",
    "\n",
    "vaa = (vect1.dot(vect6))\n",
    "vbb = (vect2.dot(vect7))\n",
    "vcc = (vect3.dot(vect8))\n",
    "vdd = (vect4.dot(vect9))\n",
    "vee = (vect5.dot(vect10))\n",
    "print (vaa,vbb,vcc,vdd,vee)"
   ]
  },
  {
   "cell_type": "code",
   "execution_count": null,
   "metadata": {},
   "outputs": [],
   "source": []
  }
 ],
 "metadata": {
  "kernelspec": {
   "display_name": "Python 3",
   "language": "python",
   "name": "python3"
  },
  "language_info": {
   "codemirror_mode": {
    "name": "ipython",
    "version": 3
   },
   "file_extension": ".py",
   "mimetype": "text/x-python",
   "name": "python",
   "nbconvert_exporter": "python",
   "pygments_lexer": "ipython3",
   "version": "3.8.3"
  }
 },
 "nbformat": 4,
 "nbformat_minor": 4
}
